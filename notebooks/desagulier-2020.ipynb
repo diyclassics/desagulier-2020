{
 "cells": [
  {
   "cell_type": "code",
   "execution_count": null,
   "metadata": {
    "vscode": {
     "languageId": "r"
    }
   },
   "outputs": [],
   "source": [
    "# Reproducing the results in https://corpling.hypotheses.org/3341"
   ]
  },
  {
   "cell_type": "code",
   "execution_count": null,
   "metadata": {
    "vscode": {
     "languageId": "r"
    }
   },
   "outputs": [],
   "source": [
    "# Imports\n",
    "\n",
    "library(igraph);\n",
    "library(ggraph);\n",
    "library(tidygraph);"
   ]
  },
  {
   "cell_type": "code",
   "execution_count": null,
   "metadata": {
    "vscode": {
     "languageId": "r"
    }
   },
   "outputs": [],
   "source": [
    "# Load data\n",
    "v.attr <- read.table(\"https://www.nakala.fr/data/11280/1f0d5c4c\", header=T, sep=\"\\t\")\n",
    "edges_data <- read.table(\"https://www.nakala.fr/data/11280/cfd3793e\", header=T, sep=\"\\t\")"
   ]
  },
  {
   "cell_type": "code",
   "execution_count": null,
   "metadata": {
    "vscode": {
     "languageId": "r"
    }
   },
   "outputs": [],
   "source": [
    "# Look at data, vertices\n",
    "\n",
    "print(v.attr[1:10,])"
   ]
  },
  {
   "cell_type": "code",
   "execution_count": null,
   "metadata": {
    "vscode": {
     "languageId": "r"
    }
   },
   "outputs": [],
   "source": [
    "# Look at data, edges\n",
    "\n",
    "print(edges_data[1:10,])"
   ]
  },
  {
   "cell_type": "code",
   "execution_count": null,
   "metadata": {
    "vscode": {
     "languageId": "r"
    }
   },
   "outputs": [],
   "source": [
    "# Make igraph\n",
    "\n",
    "ig <- graph_from_data_frame(d=edges_data, vertices=v.attr, directed = FALSE)\n",
    "\n",
    "print(ig)"
   ]
  },
  {
   "cell_type": "code",
   "execution_count": null,
   "metadata": {
    "vscode": {
     "languageId": "r"
    }
   },
   "outputs": [],
   "source": [
    "# Make tidygraph\n",
    "\n",
    "tg <- tidygraph::as_tbl_graph(ig) %>% activate(nodes) %>% mutate(label=name)\n",
    "\n",
    "print(tg)"
   ]
  },
  {
   "cell_type": "code",
   "execution_count": null,
   "metadata": {
    "vscode": {
     "languageId": "r"
    }
   },
   "outputs": [],
   "source": [
    "# Get centrality\n",
    "\n",
    "v.size <- V(tg)$coll_freq\n",
    "E(tg)$weight <- E(tg)$MI\n",
    "eigenCent <- evcent(tg)$vector\n",
    "bins <- unique(quantile(eigenCent, seq(0,1,length.out=30)))"
   ]
  },
  {
   "cell_type": "code",
   "execution_count": null,
   "metadata": {
    "vscode": {
     "languageId": "r"
    }
   },
   "outputs": [],
   "source": [
    "# Look at data, sizes\n",
    "\n",
    "print(v.size)"
   ]
  },
  {
   "cell_type": "code",
   "execution_count": null,
   "metadata": {
    "vscode": {
     "languageId": "r"
    }
   },
   "outputs": [],
   "source": [
    "# Look at data, centrality\n",
    "\n",
    "print(E(tg)$weight)"
   ]
  },
  {
   "cell_type": "code",
   "execution_count": null,
   "metadata": {
    "vscode": {
     "languageId": "r"
    }
   },
   "outputs": [],
   "source": [
    "# Look at data, bins\n",
    "\n",
    "print(eigenCent[1:12])"
   ]
  },
  {
   "cell_type": "code",
   "execution_count": null,
   "metadata": {
    "vscode": {
     "languageId": "r"
    }
   },
   "outputs": [],
   "source": [
    "# Look at data, bins\n",
    "print(bins)"
   ]
  },
  {
   "cell_type": "code",
   "execution_count": null,
   "metadata": {
    "vscode": {
     "languageId": "r"
    }
   },
   "outputs": [],
   "source": [
    "# Prop plot\n",
    "\n",
    "vals <- cut(eigenCent, bins, labels=FALSE, include.lowest=TRUE)\n",
    "colorVals <- rev(heat.colors(length(bins)))[vals]\n"
   ]
  },
  {
   "cell_type": "code",
   "execution_count": null,
   "metadata": {
    "vscode": {
     "languageId": "r"
    }
   },
   "outputs": [],
   "source": [
    "# Plot\n",
    "\n",
    "tg %>%\n",
    "  ggraph(layout=\"stress\") +\n",
    "  geom_edge_diagonal(alpha = .2, color='white') +\n",
    "  geom_node_point(size=log(v.size)*2, color=colorVals) +\n",
    "  geom_node_text(aes(label = name), repel = TRUE, point.padding  = unit(0.2, \"lines\"), size=log(v.size), colour='white') +\n",
    "  theme_graph(background = 'grey20')\n"
   ]
  }
 ],
 "metadata": {
  "kernelspec": {
   "display_name": "R",
   "language": "R",
   "name": "ir"
  },
  "language_info": {
   "codemirror_mode": "r",
   "file_extension": ".r",
   "mimetype": "text/x-r-source",
   "name": "R",
   "pygments_lexer": "r",
   "version": "4.2.3"
  },
  "orig_nbformat": 4
 },
 "nbformat": 4,
 "nbformat_minor": 2
}
