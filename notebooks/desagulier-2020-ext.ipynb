{
 "cells": [
  {
   "cell_type": "code",
   "execution_count": null,
   "metadata": {
    "vscode": {
     "languageId": "r"
    }
   },
   "outputs": [],
   "source": [
    "# Imports\n",
    "library(igraph);\n",
    "library(ggraph);\n",
    "library(tidygraph);"
   ]
  },
  {
   "cell_type": "code",
   "execution_count": null,
   "metadata": {
    "vscode": {
     "languageId": "r"
    }
   },
   "outputs": [],
   "source": [
    "collocation_plot <- function(vertices_file, edges_file) {\n",
    "    # Load data\n",
    "    v.attr <- read.table(vertices_file, header=T, sep=\"\\t\")\n",
    "    edges_data <- read.table(edges_file, header=T, sep=\"\\t\")    \n",
    "    # Make igraph\n",
    "    ig <- graph_from_data_frame(d=edges_data, vertices=v.attr, directed = FALSE)\n",
    "    # Make tidygraph\n",
    "    tg <- tidygraph::as_tbl_graph(ig) %>% activate(nodes) %>% mutate(label=name)\n",
    "    # Get centrality\n",
    "    v.size <- V(tg)$coll_freq\n",
    "    E(tg)$weight <- E(tg)$PMI\n",
    "    eigenCent <- evcent(tg)$vector\n",
    "    bins <- unique(quantile(eigenCent, seq(0,1,length.out=30)))\n",
    "    # Prop plot\n",
    "    vals <- cut(eigenCent, bins, labels=FALSE, include.lowest=TRUE)\n",
    "    colorVals <- rev(heat.colors(length(bins)))[vals]\n",
    "    # Plot\n",
    "    tg %>%\n",
    "    ggraph(layout=\"stress\") +\n",
    "    geom_edge_diagonal(alpha = .2, color='white') +\n",
    "    geom_node_point(size=log(v.size)*2, color=colorVals) +\n",
    "    geom_node_text(aes(label = name), repel = TRUE, point.padding  = unit(0.2, \"lines\"), size=log(v.size), colour='white') +\n",
    "    theme_graph(background = 'grey20')\n",
    "}"
   ]
  },
  {
   "cell_type": "code",
   "execution_count": null,
   "metadata": {
    "vscode": {
     "languageId": "r"
    }
   },
   "outputs": [],
   "source": [
    "collocation_plot('../data/domus-familia-vertices.tsv', '../data/domus-familia-edges.tsv')"
   ]
  },
  {
   "cell_type": "code",
   "execution_count": null,
   "metadata": {
    "vscode": {
     "languageId": "r"
    }
   },
   "outputs": [],
   "source": [
    "collocation_plot('../data/mater-pater-vertices.tsv', '../data/mater-pater-edges.tsv')"
   ]
  },
  {
   "cell_type": "code",
   "execution_count": null,
   "metadata": {
    "vscode": {
     "languageId": "r"
    }
   },
   "outputs": [],
   "source": [
    "collocation_plot('../data/amor-odium-vertices.tsv', '../data/amor-odium-edges.tsv')"
   ]
  },
  {
   "cell_type": "code",
   "execution_count": null,
   "metadata": {
    "vscode": {
     "languageId": "r"
    }
   },
   "outputs": [],
   "source": [
    "collocation_plot('../data/gladius-ensis-vertices.tsv', '../data/gladius-ensis-edges.tsv')"
   ]
  },
  {
   "cell_type": "code",
   "execution_count": null,
   "metadata": {
    "vscode": {
     "languageId": "r"
    }
   },
   "outputs": [],
   "source": [
    "collocation_plot('../data/ago-facio-vertices.tsv', '../data/ago-facio-edges.tsv')"
   ]
  }
 ],
 "metadata": {
  "kernelspec": {
   "display_name": "R",
   "language": "R",
   "name": "ir"
  },
  "language_info": {
   "codemirror_mode": "r",
   "file_extension": ".r",
   "mimetype": "text/x-r-source",
   "name": "R",
   "pygments_lexer": "r",
   "version": "4.2.3"
  },
  "orig_nbformat": 4
 },
 "nbformat": 4,
 "nbformat_minor": 2
}
